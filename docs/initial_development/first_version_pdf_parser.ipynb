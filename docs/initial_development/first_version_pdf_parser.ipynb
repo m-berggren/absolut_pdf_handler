{
 "cells": [
  {
   "attachments": {},
   "cell_type": "markdown",
   "metadata": {},
   "source": [
    "Imports:"
   ]
  },
  {
   "cell_type": "code",
   "execution_count": 1,
   "metadata": {},
   "outputs": [],
   "source": [
    "import pandas\n",
    "import fitz\n",
    "\n",
    "import json, os"
   ]
  },
  {
   "attachments": {},
   "cell_type": "markdown",
   "metadata": {},
   "source": [
    "Files and directories:"
   ]
  },
  {
   "cell_type": "code",
   "execution_count": 2,
   "metadata": {},
   "outputs": [],
   "source": [
    "\n",
    "#Set relative paths\n",
    "ROOT_DIR = os.path.abspath('')\n",
    "config_path = '\\\\'.join([ROOT_DIR, 'config.json'])\n",
    "file_path = '\\\\'.join([\n",
    "    ROOT_DIR,\n",
    "    r'\\absolut\\absolut-examples\\(1) 51070652_156989S.pdf'\n",
    "    ])\n",
    "\n",
    "file_path2 = '\\\\'.join([\n",
    "    ROOT_DIR,\n",
    "    r'\\absolut\\absolut-examples\\(1) 51073982_157038S.pdf'\n",
    "    ])\n",
    "\n",
    "with open(file_path2) as fp:\n",
    "    doc = fitz.open(fp)\n"
   ]
  },
  {
   "attachments": {},
   "cell_type": "markdown",
   "metadata": {},
   "source": [
    "Constants:"
   ]
  },
  {
   "cell_type": "code",
   "execution_count": 3,
   "metadata": {},
   "outputs": [],
   "source": [
    "REF = \"Booking No.\"\n",
    "PKG = \"Sum:\"\n",
    "NWT = \"Total gross weight to be used in BL\"\n",
    "EQU = \"CONT:\"\n",
    "MRN = \"MRN no:\"\n",
    "ABS = \"Reference No.\""
   ]
  },
  {
   "attachments": {},
   "cell_type": "markdown",
   "metadata": {},
   "source": [
    "Main function and loop:"
   ]
  },
  {
   "cell_type": "code",
   "execution_count": 4,
   "metadata": {},
   "outputs": [],
   "source": [
    "total_height = 0.0\n",
    "total_words = []\n",
    "ref, pkg, nwt, equ, mrn = \"\", \"\", \"\", \"\", \"\"\n",
    "\n",
    "def alter_values(val, const_val):\n",
    "    if not val:\n",
    "        val = page.search_for(const_val)\n",
    "        try:\n",
    "            val = val[0]\n",
    "            val += (0, total_height, 0, total_height)\n",
    "        except:\n",
    "            pass\n",
    "    return val\n",
    "\n",
    "for page in doc:\n",
    "    word_list = page.get_text(\"words\")\n",
    "    for w in word_list:\n",
    "        total_words.append([w[0], w[1] + total_height, w[2], w[3] + total_height, w[4]])\n",
    "\n",
    "    ref = alter_values(ref, REF)\n",
    "    pkg = alter_values(pkg, PKG)\n",
    "    nwt = alter_values(nwt, NWT)\n",
    "    equ = alter_values(equ, EQU)\n",
    "    mrn = alter_values(mrn, MRN)\n",
    "\n",
    "    total_height += page.rect.height"
   ]
  },
  {
   "attachments": {},
   "cell_type": "markdown",
   "metadata": {},
   "source": [
    "Get rectangle coordinates:"
   ]
  },
  {
   "cell_type": "code",
   "execution_count": 5,
   "metadata": {},
   "outputs": [
    {
     "name": "stdout",
     "output_type": "stream",
     "text": [
      "Rect(302.0, 65.18310546875, 340.11376953125, 73.00341796875) \n",
      " Rect(110.0, 991.0600128173828, 122.33599853515625, 999.3040161132812) \n",
      " Rect(116.0, 1015.0600128173828, 209.71397399902344, 1023.3040161132812) \n",
      " Rect(32.0, 673.7999877929688, 56.0, 686.2899780273438) \n",
      " Rect(302.0, 709.7999877929688, 344.0, 722.2899780273438)\n"
     ]
    }
   ],
   "source": [
    "print(\n",
    "ref, \"\\n\",\n",
    "pkg, \"\\n\",\n",
    "nwt, \"\\n\",\n",
    "equ, \"\\n\",\n",
    "mrn\n",
    ")"
   ]
  },
  {
   "attachments": {},
   "cell_type": "markdown",
   "metadata": {},
   "source": [
    "Adding to base rectangles to extract correct word/value:"
   ]
  },
  {
   "cell_type": "code",
   "execution_count": 6,
   "metadata": {},
   "outputs": [],
   "source": [
    "#Alter rectangles to get values\n",
    "ref = ref + (0, 9, 40, 13)\n",
    "pkg = pkg + (204, 0, 230, 0)\n",
    "nwt = nwt + (300, 0, 261, 0)\n",
    "equ = equ + (42, 0, 84, 0)\n",
    "mrn = mrn + (48, 0, 114, 0)"
   ]
  },
  {
   "attachments": {},
   "cell_type": "markdown",
   "metadata": {},
   "source": [
    "Intersect two rectangles to get word/value, then run for each of the 5 rectangles:"
   ]
  },
  {
   "cell_type": "code",
   "execution_count": 7,
   "metadata": {},
   "outputs": [],
   "source": [
    "#Then intersect\n",
    "def get_word_in_rect(rect):\n",
    "    return [word[4] for word in total_words if fitz.Rect(word[:4]).intersects(rect)][0]"
   ]
  },
  {
   "cell_type": "code",
   "execution_count": 10,
   "metadata": {},
   "outputs": [],
   "source": [
    "ref = get_word_in_rect(ref)\n",
    "pkg = get_word_in_rect(pkg)\n",
    "nwt = get_word_in_rect(nwt)\n",
    "equ = get_word_in_rect(equ)\n",
    "mrn = get_word_in_rect(mrn)"
   ]
  },
  {
   "attachments": {},
   "cell_type": "markdown",
   "metadata": {},
   "source": [
    "Result:"
   ]
  },
  {
   "cell_type": "code",
   "execution_count": 15,
   "metadata": {},
   "outputs": [],
   "source": [
    "info = {\n",
    "    ref: {\n",
    "        'Container number': equ,\n",
    "        'Net weight': nwt,\n",
    "        'MRN': mrn,\n",
    "        'Packages': pkg\n",
    "        }\n",
    "        }"
   ]
  },
  {
   "cell_type": "code",
   "execution_count": 16,
   "metadata": {},
   "outputs": [
    {
     "data": {
      "text/plain": [
       "{'GOTD00655300': {'Container number': 'CXDU1278300',\n",
       "  'Net weight': '18778,570',\n",
       "  'MRN': '23SEE1IWRT2S6LIEU0',\n",
       "  'Packages': '1145'}}"
      ]
     },
     "execution_count": 16,
     "metadata": {},
     "output_type": "execute_result"
    }
   ],
   "source": [
    "info"
   ]
  }
 ],
 "metadata": {
  "kernelspec": {
   "display_name": "venv",
   "language": "python",
   "name": "python3"
  },
  "language_info": {
   "codemirror_mode": {
    "name": "ipython",
    "version": 3
   },
   "file_extension": ".py",
   "mimetype": "text/x-python",
   "name": "python",
   "nbconvert_exporter": "python",
   "pygments_lexer": "ipython3",
   "version": "3.11.1"
  },
  "orig_nbformat": 4,
  "vscode": {
   "interpreter": {
    "hash": "80d329cb183ad9ed332adf1ea6b3fd1fc3d0642e0a4739189f18e646e872282f"
   }
  }
 },
 "nbformat": 4,
 "nbformat_minor": 2
}
