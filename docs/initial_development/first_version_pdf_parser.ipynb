{
 "cells": [
  {
   "attachments": {},
   "cell_type": "markdown",
   "metadata": {},
   "source": [
    "Imports:"
   ]
  },
  {
   "cell_type": "code",
   "execution_count": 50,
   "metadata": {},
   "outputs": [],
   "source": [
    "import os\n",
    "\n",
    "import fitz\n"
   ]
  },
  {
   "attachments": {},
   "cell_type": "markdown",
   "metadata": {},
   "source": [
    "Files and directories:"
   ]
  },
  {
   "cell_type": "code",
   "execution_count": 51,
   "metadata": {},
   "outputs": [],
   "source": [
    "\n",
    "#Set relative paths\n",
    "ROOT_DIR = os.path.abspath('')\n",
    "config_path = '\\\\'.join([ROOT_DIR, 'config.json'])\n",
    "\n",
    "file_path = r\"C:\\Users\\Marcus\\Documents\\python-projects\\absolut_parse_pdf\\docs\\downloaded_pdfs\\(1) 51059536_144054S.pdf\"\n",
    "\n",
    "with open(file_path) as fp:\n",
    "    doc = fitz.open(fp)\n"
   ]
  },
  {
   "attachments": {},
   "cell_type": "markdown",
   "metadata": {},
   "source": [
    "Constants:"
   ]
  },
  {
   "cell_type": "code",
   "execution_count": 52,
   "metadata": {},
   "outputs": [],
   "source": [
    "REF = \"Booking No.\"\n",
    "PKG = \"Sum:\"\n",
    "NWT = \"Total gross weight to be used in BL\"\n",
    "EQU = \"CONT:\"\n",
    "MRN = \"MRN no:\"\n",
    "ABS = \"Reference No.\"\n",
    "DAT = \"Place and date\""
   ]
  },
  {
   "attachments": {},
   "cell_type": "markdown",
   "metadata": {},
   "source": [
    "Main function and loop:"
   ]
  },
  {
   "cell_type": "code",
   "execution_count": 53,
   "metadata": {},
   "outputs": [],
   "source": [
    "total_height = 0.0\n",
    "total_words = []\n",
    "ref, pkg, nwt, equ, mrn, abs, dat = \"\", \"\", \"\", \"\", \"\", \"\", \"\"\n",
    "\n",
    "def alter_values(val, const_val):\n",
    "    if not val:\n",
    "        val = page.search_for(const_val)\n",
    "        try:\n",
    "            val = val[0]\n",
    "            val += (0, total_height, 0, total_height)\n",
    "        except:\n",
    "            pass\n",
    "    return val\n",
    "\n",
    "for page in doc:\n",
    "    word_list = page.get_text(\"words\")\n",
    "    for w in word_list:\n",
    "        total_words.append([w[0], w[1] + total_height, w[2], w[3] + total_height, w[4]])\n",
    "\n",
    "    ref = alter_values(ref, REF)\n",
    "    pkg = alter_values(pkg, PKG)\n",
    "    nwt = alter_values(nwt, NWT)\n",
    "    equ = alter_values(equ, EQU)\n",
    "    mrn = alter_values(mrn, MRN)\n",
    "    abs = alter_values(abs, ABS)\n",
    "    dat = alter_values(dat, DAT)\n",
    "\n",
    "    total_height += page.rect.height"
   ]
  },
  {
   "attachments": {},
   "cell_type": "markdown",
   "metadata": {},
   "source": [
    "Get rectangle coordinates:"
   ]
  },
  {
   "cell_type": "code",
   "execution_count": 56,
   "metadata": {},
   "outputs": [
    {
     "name": "stdout",
     "output_type": "stream",
     "text": [
      "Rect(302.0, 74.18310546875, 380.11376953125, 86.00341796875) \n",
      " Rect(314.0, 533.0599975585938, 354.0039978027344, 541.3040161132812) \n",
      " Rect(410.0, 557.0599975585938, 464.71397399902344, 565.3040161132812) \n",
      " Rect(74.0, 673.7999877929688, 146.0, 686.2899780273438) \n",
      " Rect(350.0, 709.7999877929688, 458.0, 722.2899780273438) \n",
      " Rect(302.0, 89.18310546875, 347.11376953125, 97.00341796875) \n",
      " Rect(494.0, 794.18310546875, 554.6700134277344, 806.00341796875)\n"
     ]
    }
   ],
   "source": [
    "print(\n",
    "ref, \"\\n\",\n",
    "pkg, \"\\n\",\n",
    "nwt, \"\\n\",\n",
    "equ, \"\\n\",\n",
    "mrn, \"\\n\",\n",
    "abs, \"\\n\",\n",
    "dat\n",
    ")"
   ]
  },
  {
   "cell_type": "code",
   "execution_count": null,
   "metadata": {},
   "outputs": [],
   "source": [
    "[494.0, 793.7999877929688, 554.0, 806.2899780273438, '2022-03-24']"
   ]
  },
  {
   "attachments": {},
   "cell_type": "markdown",
   "metadata": {},
   "source": [
    "Adding to base rectangles to extract correct word/value:"
   ]
  },
  {
   "cell_type": "code",
   "execution_count": 55,
   "metadata": {},
   "outputs": [],
   "source": [
    "#Alter rectangles to get values\n",
    "ref = ref + (0, 9, 40, 13)\n",
    "pkg = pkg + (204, 0, 230, 0)\n",
    "nwt = nwt + (300, 0, 261, 0)\n",
    "equ = equ + (42, 0, 84, 0)\n",
    "mrn = mrn + (48, 0, 114, 0)\n",
    "abs = abs + (0, 0, 0, 0)\n",
    "dat = dat + (192, 9, 206, 13)"
   ]
  },
  {
   "attachments": {},
   "cell_type": "markdown",
   "metadata": {},
   "source": [
    "Intersect two rectangles to get word/value, then run for each of the 5 rectangles:"
   ]
  },
  {
   "cell_type": "code",
   "execution_count": 57,
   "metadata": {},
   "outputs": [],
   "source": [
    "#Then intersect\n",
    "def get_word_in_rect(rect):\n",
    "    return [word[4] for word in total_words if fitz.Rect(word[:4]).intersects(rect)][0]"
   ]
  },
  {
   "cell_type": "code",
   "execution_count": 58,
   "metadata": {},
   "outputs": [],
   "source": [
    "ref = get_word_in_rect(ref)\n",
    "pkg = get_word_in_rect(pkg)\n",
    "nwt = get_word_in_rect(nwt)\n",
    "equ = get_word_in_rect(equ)\n",
    "mrn = get_word_in_rect(mrn)\n",
    "dat = get_word_in_rect(dat)"
   ]
  },
  {
   "attachments": {},
   "cell_type": "markdown",
   "metadata": {},
   "source": [
    "Result:"
   ]
  },
  {
   "cell_type": "code",
   "execution_count": 59,
   "metadata": {},
   "outputs": [],
   "source": [
    "info = {\n",
    "    ref: {\n",
    "        'Container number': equ,\n",
    "        'Net weight': nwt,\n",
    "        'MRN': mrn,\n",
    "        'Packages': pkg,\n",
    "        'Absolut': abs,\n",
    "        'Datum': dat\n",
    "        }\n",
    "        }"
   ]
  },
  {
   "cell_type": "code",
   "execution_count": 47,
   "metadata": {},
   "outputs": [
    {
     "data": {
      "text/plain": [
       "{'77997986': {'Container number': 'UACU3904020',\n",
       "  'Net weight': '14412,926',\n",
       "  'MRN': '22SEE493IU4R428G98',\n",
       "  'Packages': '766',\n",
       "  'Absolut': Rect(302.0, 89.18310546875, 347.11376953125, 97.00341796875),\n",
       "  'Datum': '2022-03-24'}}"
      ]
     },
     "execution_count": 47,
     "metadata": {},
     "output_type": "execute_result"
    }
   ],
   "source": [
    "info"
   ]
  }
 ],
 "metadata": {
  "kernelspec": {
   "display_name": "venv",
   "language": "python",
   "name": "python3"
  },
  "language_info": {
   "codemirror_mode": {
    "name": "ipython",
    "version": 3
   },
   "file_extension": ".py",
   "mimetype": "text/x-python",
   "name": "python",
   "nbconvert_exporter": "python",
   "pygments_lexer": "ipython3",
   "version": "3.11.1"
  },
  "orig_nbformat": 4,
  "vscode": {
   "interpreter": {
    "hash": "80d329cb183ad9ed332adf1ea6b3fd1fc3d0642e0a4739189f18e646e872282f"
   }
  }
 },
 "nbformat": 4,
 "nbformat_minor": 2
}
